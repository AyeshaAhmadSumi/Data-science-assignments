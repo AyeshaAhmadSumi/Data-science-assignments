{
 "cells": [
  {
   "cell_type": "code",
   "execution_count": null,
   "id": "1dea545a",
   "metadata": {},
   "outputs": [],
   "source": [
    "print(\"Funny mad lib story generator. Follow the prompts and get a hilarious outcome!\\n\")\n",
    "\n",
    "mdlib1 = input(\"Enter an adjective: \").lower()\n",
    "mdlib2 = input(\"Enter an verb: \").lower()\n",
    "mdlib3 = input(\"Enter an noun: \").lower()\n",
    "mdlib4 = input(\"Enter an adjective: \").lower()\n",
    "mdlib5 = input(\"Enter an noun: \").lower()\n",
    "mdlib6 = input(\"Enter an adjective: \").lower()\n",
    "mdlib7 = input(\"Enter an adjective: \").lower()\n",
    "mdlib8 = input(\"Enter an noun: \").capitalize()\n",
    "mdlib9 = input(\"Enter an noun: \").lower()\n",
    "mdlib10 = input(\"Enter an adverb: \").lower()\n",
    "\n",
    "print(f\"\"\"One very {mdlib1} morning near the end of summer,\n",
    "my mother {mdlib2} me up at 4:00 A.M. and said, \"Wake\n",
    "up and smell the {mdlib3}, sleepy head!\\n\n",
    "Today is {mdlib4} first day of school and you can't be late.\n",
    "\" I groaned in my bed for twenty seconds, but eventually I got\n",
    "dressed. The {mdlib5} came and I arrived at school.\\n\n",
    "In school, I met two really {mdlib6} kids. All of us became friends very {mdlib7}. Before I knew it, school was over.\\n\n",
    "{mdlib8} grabbed all my belongings and put them into my backpack. In two minutes, the {mdlib9} came. Then I went into the bus.\\n\n",
    "In a flash, I was back home.\n",
    "This day was an {mdlib10} exciting day!\\n\n",
    "    \"\"\")"
   ]
  }
 ],
 "metadata": {
  "kernelspec": {
   "display_name": "Python 3",
   "language": "python",
   "name": "python3"
  },
  "language_info": {
   "codemirror_mode": {
    "name": "ipython",
    "version": 3
   },
   "file_extension": ".py",
   "mimetype": "text/x-python",
   "name": "python",
   "nbconvert_exporter": "python",
   "pygments_lexer": "ipython3",
   "version": "3.11.9"
  }
 },
 "nbformat": 4,
 "nbformat_minor": 5
}
